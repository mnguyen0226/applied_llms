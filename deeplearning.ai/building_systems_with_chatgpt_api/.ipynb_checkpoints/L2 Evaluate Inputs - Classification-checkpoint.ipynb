{
 "cells": [
  {
   "cell_type": "markdown",
   "id": "81472c94",
   "metadata": {},
   "source": [
    "# L2: Evaluate Inputs: Classification"
   ]
  },
  {
   "cell_type": "code",
   "execution_count": 1,
   "id": "92eb138c",
   "metadata": {},
   "outputs": [],
   "source": [
    "import os\n",
    "import openai\n",
    "from dotenv import load_dotenv, find_dotenv\n",
    "_ = load_dotenv(find_dotenv()) # read local .env file\n",
    "\n",
    "openai.api_key  = os.environ['OPENAI_API_KEY']"
   ]
  },
  {
   "cell_type": "code",
   "execution_count": 2,
   "id": "2960f295",
   "metadata": {},
   "outputs": [],
   "source": [
    "def get_completion_from_messages(messages, \n",
    "                                 model=\"gpt-3.5-turbo\", \n",
    "                                 temperature=0, \n",
    "                                 max_tokens=500):\n",
    "    response = openai.ChatCompletion.create(\n",
    "        model=model,\n",
    "        messages=messages,\n",
    "        temperature=temperature, \n",
    "        max_tokens=max_tokens,\n",
    "    )\n",
    "    return response.choices[0].message[\"content\"]"
   ]
  },
  {
   "cell_type": "markdown",
   "id": "715d458d",
   "metadata": {},
   "source": [
    "### Classify customer queries to handle different cases\n",
    "- It's important that you will set delimiter so the model knows what's the question.\n",
    "- \"####\" is a good delimiter as it's act as 1 token.\n",
    "- Primary = high level choice.\n",
    "- Secondary = detaisl of high level choice.\n",
    "- Idea: we define the high and low level choices. Then the model will acts as classifier.\n",
    "- Output into a JSON will allow you to read the output as an object."
   ]
  },
  {
   "cell_type": "code",
   "execution_count": 3,
   "id": "6222112c",
   "metadata": {},
   "outputs": [
    {
     "name": "stdout",
     "output_type": "stream",
     "text": [
      "{\n",
      "    \"primary\": \"Account Management\",\n",
      "    \"secondary\": \"Close account\"\n",
      "}\n"
     ]
    }
   ],
   "source": [
    "delimiter = \"####\"\n",
    "system_message = f\"\"\"\n",
    "You will be provided with customer service queries. \\\n",
    "The customer service query will be delimited with \\\n",
    "{delimiter} characters.\n",
    "Classify each query into a primary category \\\n",
    "and a secondary category. \n",
    "Provide your output in json format with the \\\n",
    "keys: primary and secondary.\n",
    "\n",
    "Primary categories: Billing, Technical Support, \\\n",
    "Account Management, or General Inquiry.\n",
    "\n",
    "Billing secondary categories:\n",
    "Unsubscribe or upgrade\n",
    "Add a payment method\n",
    "Explanation for charge\n",
    "Dispute a charge\n",
    "\n",
    "Technical Support secondary categories:\n",
    "General troubleshooting\n",
    "Device compatibility\n",
    "Software updates\n",
    "\n",
    "Account Management secondary categories:\n",
    "Password reset\n",
    "Update personal information\n",
    "Close account\n",
    "Account security\n",
    "\n",
    "General Inquiry secondary categories:\n",
    "Product information\n",
    "Pricing\n",
    "Feedback\n",
    "Speak to a human\n",
    "\n",
    "\"\"\"\n",
    "user_message = f\"\"\"\\\n",
    "I want you to delete my profile and all of my user data\"\"\"\n",
    "messages =  [  \n",
    "{'role':'system', \n",
    " 'content': system_message},    \n",
    "{'role':'user', \n",
    " 'content': f\"{delimiter}{user_message}{delimiter}\"},  \n",
    "] \n",
    "response = get_completion_from_messages(messages)\n",
    "print(response)"
   ]
  },
  {
   "cell_type": "code",
   "execution_count": 4,
   "id": "c62f2320",
   "metadata": {},
   "outputs": [
    {
     "name": "stdout",
     "output_type": "stream",
     "text": [
      "{\n",
      "  \"primary\": \"General Inquiry\",\n",
      "  \"secondary\": \"Product information\"\n",
      "}  \n",
      "\n"
     ]
    }
   ],
   "source": [
    "user_message = f\"\"\"\\\n",
    "Tell me more about your flat screen tvs\"\"\"\n",
    "messages =  [  \n",
    "{'role':'system', \n",
    " 'content': system_message},    \n",
    "{'role':'user', \n",
    " 'content': f\"{delimiter}{user_message}{delimiter}\"},  \n",
    "] \n",
    "response = get_completion_from_messages(messages)\n",
    "print(response)"
   ]
  },
  {
   "cell_type": "markdown",
   "id": "6d5f7cbc",
   "metadata": {},
   "source": [
    "### Create an example about the questions for the new hire support\n",
    "- Interns will ask about training, contacts, event, team."
   ]
  },
  {
   "cell_type": "code",
   "execution_count": 5,
   "id": "955cae14",
   "metadata": {},
   "outputs": [],
   "source": [
    "delimiter = \"####\"\n",
    "\n",
    "system_message = f\"\"\"\n",
    "You will be a software engineer manager at BlackRock who helps new hires.\\\n",
    "The inquiry query will be delimited with {delimiter} characters.\n",
    "\n",
    "Classify each query into a primary category and a secondary category.\n",
    "\n",
    "Provide your output in json format with the key: primary and secondary.\n",
    "\n",
    "Primary categories: Trainings, Contacts, Events, or Teams.\n",
    "\n",
    "Trainings secondary categories:\n",
    "Software engineer training\n",
    "Machine learning training\n",
    "Finance training\n",
    "All training\n",
    "\n",
    "Contacts secondary categories:\n",
    "Human resource group\n",
    "IT group\n",
    "\n",
    "Events secondary categories:\n",
    "Analyst connect events\n",
    "Volunteer events\n",
    "Sport events\n",
    "\n",
    "Team categories\n",
    "Manager\n",
    "Senior engineer\n",
    "Fellow engineer\n",
    "\"\"\""
   ]
  },
  {
   "cell_type": "code",
   "execution_count": 6,
   "id": "359ee598",
   "metadata": {},
   "outputs": [
    {
     "name": "stdout",
     "output_type": "stream",
     "text": [
      "{\n",
      "  \"primary\": \"Trainings\",\n",
      "  \"secondary\": \"All training\"\n",
      "}\n"
     ]
    }
   ],
   "source": [
    "user_message = f\"\"\"\n",
    "I want you to give me all the trainings.\n",
    "\"\"\"\n",
    "\n",
    "messages = [\n",
    "    {'role': 'system',\n",
    "     'content': system_message},\n",
    "    {'role': 'user',\n",
    "     'content': f\"{delimiter}{user_message}{delimiter}\"},\n",
    "]\n",
    "\n",
    "response = get_completion_from_messages(messages)\n",
    "print(response)"
   ]
  },
  {
   "cell_type": "code",
   "execution_count": null,
   "id": "f25535ff",
   "metadata": {},
   "outputs": [],
   "source": []
  },
  {
   "cell_type": "code",
   "execution_count": null,
   "id": "60bb7d53",
   "metadata": {},
   "outputs": [],
   "source": []
  }
 ],
 "metadata": {
  "kernelspec": {
   "display_name": "Python 3 (ipykernel)",
   "language": "python",
   "name": "python3"
  },
  "language_info": {
   "codemirror_mode": {
    "name": "ipython",
    "version": 3
   },
   "file_extension": ".py",
   "mimetype": "text/x-python",
   "name": "python",
   "nbconvert_exporter": "python",
   "pygments_lexer": "ipython3",
   "version": "3.9.7"
  }
 },
 "nbformat": 4,
 "nbformat_minor": 5
}
